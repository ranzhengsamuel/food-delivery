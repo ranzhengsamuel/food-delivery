{
 "cells": [
  {
   "cell_type": "code",
   "execution_count": 6,
   "id": "c9b0f2d2-42b6-4f07-b965-e56153be2671",
   "metadata": {},
   "outputs": [
    {
     "name": "stderr",
     "output_type": "stream",
     "text": [
      "2025-10-09 14:36:55.093 Thread 'MainThread': missing ScriptRunContext! This warning can be ignored when running in bare mode.\n",
      "2025-10-09 14:36:55.094 Thread 'MainThread': missing ScriptRunContext! This warning can be ignored when running in bare mode.\n",
      "2025-10-09 14:36:55.094 Thread 'MainThread': missing ScriptRunContext! This warning can be ignored when running in bare mode.\n",
      "2025-10-09 14:36:55.095 Thread 'MainThread': missing ScriptRunContext! This warning can be ignored when running in bare mode.\n",
      "2025-10-09 14:36:55.095 Thread 'MainThread': missing ScriptRunContext! This warning can be ignored when running in bare mode.\n",
      "2025-10-09 14:36:55.096 Thread 'MainThread': missing ScriptRunContext! This warning can be ignored when running in bare mode.\n",
      "2025-10-09 14:36:55.096 Thread 'MainThread': missing ScriptRunContext! This warning can be ignored when running in bare mode.\n",
      "2025-10-09 14:36:55.096 Thread 'MainThread': missing ScriptRunContext! This warning can be ignored when running in bare mode.\n",
      "2025-10-09 14:36:55.097 Thread 'MainThread': missing ScriptRunContext! This warning can be ignored when running in bare mode.\n",
      "2025-10-09 14:36:55.097 Thread 'MainThread': missing ScriptRunContext! This warning can be ignored when running in bare mode.\n",
      "2025-10-09 14:36:55.098 Thread 'MainThread': missing ScriptRunContext! This warning can be ignored when running in bare mode.\n",
      "2025-10-09 14:36:55.098 Thread 'MainThread': missing ScriptRunContext! This warning can be ignored when running in bare mode.\n",
      "2025-10-09 14:36:55.101 Thread 'MainThread': missing ScriptRunContext! This warning can be ignored when running in bare mode.\n",
      "2025-10-09 14:36:55.102 Thread 'MainThread': missing ScriptRunContext! This warning can be ignored when running in bare mode.\n",
      "2025-10-09 14:36:55.102 Thread 'MainThread': missing ScriptRunContext! This warning can be ignored when running in bare mode.\n",
      "2025-10-09 14:36:55.103 Thread 'MainThread': missing ScriptRunContext! This warning can be ignored when running in bare mode.\n",
      "2025-10-09 14:36:55.103 Thread 'MainThread': missing ScriptRunContext! This warning can be ignored when running in bare mode.\n",
      "2025-10-09 14:36:55.104 Thread 'MainThread': missing ScriptRunContext! This warning can be ignored when running in bare mode.\n",
      "2025-10-09 14:36:55.104 Thread 'MainThread': missing ScriptRunContext! This warning can be ignored when running in bare mode.\n",
      "2025-10-09 14:36:55.104 Thread 'MainThread': missing ScriptRunContext! This warning can be ignored when running in bare mode.\n",
      "2025-10-09 14:36:55.105 Thread 'MainThread': missing ScriptRunContext! This warning can be ignored when running in bare mode.\n",
      "2025-10-09 14:36:55.105 Thread 'MainThread': missing ScriptRunContext! This warning can be ignored when running in bare mode.\n",
      "2025-10-09 14:36:55.106 Thread 'MainThread': missing ScriptRunContext! This warning can be ignored when running in bare mode.\n"
     ]
    }
   ],
   "source": [
    "import streamlit as st\n",
    "import pandas as pd\n",
    "\n",
    "st.title(\"我的第一个 Streamlit 应用\")\n",
    "st.header(\"这是一个二级标题\")\n",
    "st.write(\"你好，世界！Streamlit 让创建 Web 应用变得非常简单。\")\n",
    "st.markdown(\"我们可以使用 **Markdown** 来格式化文本。\")\n",
    "\n",
    "st.subheader(\"显示一个 Pandas DataFrame\")\n",
    "df = pd.DataFrame({\n",
    "    '第一列': [1, 2, 3, 4],\n",
    "    '第二列': [10, 20, 30, 40]\n",
    "})\n",
    "st.write(\"这是一个 DataFrame:\")\n",
    "st.dataframe(df)\n",
    "\n",
    "st.subheader(\"添加一个按钮\")\n",
    "if st.button(\"点我一下\"):\n",
    "    # 当按钮被点击时，这部分代码会执行\n",
    "    st.write(\"你点击了按钮！🎉\")\n",
    "else:\n",
    "    st.write(\"请点击上面的按钮。\")"
   ]
  },
  {
   "cell_type": "code",
   "execution_count": null,
   "id": "671c4efd-365f-4e46-94c5-ce34588910be",
   "metadata": {},
   "outputs": [],
   "source": []
  }
 ],
 "metadata": {
  "kernelspec": {
   "display_name": "Python 3 (ipykernel)",
   "language": "python",
   "name": "python3"
  },
  "language_info": {
   "codemirror_mode": {
    "name": "ipython",
    "version": 3
   },
   "file_extension": ".py",
   "mimetype": "text/x-python",
   "name": "python",
   "nbconvert_exporter": "python",
   "pygments_lexer": "ipython3",
   "version": "3.13.5"
  }
 },
 "nbformat": 4,
 "nbformat_minor": 5
}
