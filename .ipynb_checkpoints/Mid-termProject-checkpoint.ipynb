{
 "cells": [
  {
   "cell_type": "code",
   "execution_count": 1,
   "id": "c9b0f2d2-42b6-4f07-b965-e56153be2671",
   "metadata": {},
   "outputs": [
    {
     "name": "stderr",
     "output_type": "stream",
     "text": [
      "2025-10-09 14:00:15.315 WARNING streamlit.runtime.scriptrunner_utils.script_run_context: Thread 'MainThread': missing ScriptRunContext! This warning can be ignored when running in bare mode.\n",
      "2025-10-09 14:00:15.795 \n",
      "  \u001b[33m\u001b[1mWarning:\u001b[0m to view this Streamlit app on a browser, run it with the following\n",
      "  command:\n",
      "\n",
      "    streamlit run C:\\Users\\USER\\anaconda3\\Lib\\site-packages\\ipykernel_launcher.py [ARGUMENTS]\n",
      "2025-10-09 14:00:15.796 Thread 'MainThread': missing ScriptRunContext! This warning can be ignored when running in bare mode.\n",
      "2025-10-09 14:00:15.797 Thread 'MainThread': missing ScriptRunContext! This warning can be ignored when running in bare mode.\n",
      "2025-10-09 14:00:15.797 Thread 'MainThread': missing ScriptRunContext! This warning can be ignored when running in bare mode.\n",
      "2025-10-09 14:00:15.798 Thread 'MainThread': missing ScriptRunContext! This warning can be ignored when running in bare mode.\n",
      "2025-10-09 14:00:15.798 Thread 'MainThread': missing ScriptRunContext! This warning can be ignored when running in bare mode.\n",
      "2025-10-09 14:00:15.798 Thread 'MainThread': missing ScriptRunContext! This warning can be ignored when running in bare mode.\n",
      "2025-10-09 14:00:15.799 Thread 'MainThread': missing ScriptRunContext! This warning can be ignored when running in bare mode.\n",
      "2025-10-09 14:00:15.799 Thread 'MainThread': missing ScriptRunContext! This warning can be ignored when running in bare mode.\n",
      "2025-10-09 14:00:15.800 Thread 'MainThread': missing ScriptRunContext! This warning can be ignored when running in bare mode.\n",
      "2025-10-09 14:00:15.801 Thread 'MainThread': missing ScriptRunContext! This warning can be ignored when running in bare mode.\n",
      "2025-10-09 14:00:15.801 Thread 'MainThread': missing ScriptRunContext! This warning can be ignored when running in bare mode.\n",
      "2025-10-09 14:00:15.806 Thread 'MainThread': missing ScriptRunContext! This warning can be ignored when running in bare mode.\n",
      "2025-10-09 14:00:15.807 Thread 'MainThread': missing ScriptRunContext! This warning can be ignored when running in bare mode.\n",
      "2025-10-09 14:00:15.808 Thread 'MainThread': missing ScriptRunContext! This warning can be ignored when running in bare mode.\n",
      "2025-10-09 14:00:15.808 Thread 'MainThread': missing ScriptRunContext! This warning can be ignored when running in bare mode.\n",
      "2025-10-09 14:00:15.809 Thread 'MainThread': missing ScriptRunContext! This warning can be ignored when running in bare mode.\n",
      "2025-10-09 14:00:15.809 Thread 'MainThread': missing ScriptRunContext! This warning can be ignored when running in bare mode.\n",
      "2025-10-09 14:00:15.810 Thread 'MainThread': missing ScriptRunContext! This warning can be ignored when running in bare mode.\n",
      "2025-10-09 14:00:15.810 Thread 'MainThread': missing ScriptRunContext! This warning can be ignored when running in bare mode.\n",
      "2025-10-09 14:00:15.810 Thread 'MainThread': missing ScriptRunContext! This warning can be ignored when running in bare mode.\n",
      "2025-10-09 14:00:15.811 Thread 'MainThread': missing ScriptRunContext! This warning can be ignored when running in bare mode.\n",
      "2025-10-09 14:00:15.811 Thread 'MainThread': missing ScriptRunContext! This warning can be ignored when running in bare mode.\n"
     ]
    }
   ],
   "source": [
    "import streamlit as st\n",
    "import pandas as pd\n",
    "\n",
    "st.title(\"我的第一个 Streamlit 应用\")\n",
    "st.header(\"这是一个二级标题\")\n",
    "st.write(\"你好，世界！Streamlit 让创建 Web 应用变得非常简单。\")\n",
    "st.markdown(\"我们可以使用 **Markdown** 来格式化文本。\")\n",
    "\n",
    "st.subheader(\"显示一个 Pandas DataFrame\")\n",
    "df = pd.DataFrame({\n",
    "    '第一列': [1, 2, 3, 4],\n",
    "    '第二列': [10, 20, 30, 40]\n",
    "})\n",
    "st.write(\"这是一个 DataFrame:\")\n",
    "st.dataframe(df)\n",
    "\n",
    "st.subheader(\"添加一个按钮\")\n",
    "if st.button(\"点我一下\"):\n",
    "    # 当按钮被点击时，这部分代码会执行\n",
    "    st.write(\"你点击了按钮！🎉\")\n",
    "else:\n",
    "    st.write(\"请点击上面的按钮。\")"
   ]
  },
  {
   "cell_type": "code",
   "execution_count": 2,
   "id": "c4f786cc-a021-4a24-bb39-9c517a6e70f7",
   "metadata": {},
   "outputs": [],
   "source": [
    "import subprocess\n",
    "import sys"
   ]
  },
  {
   "cell_type": "code",
   "execution_count": 3,
   "id": "c71a2fe0-f063-4374-b0f5-55769379b8e9",
   "metadata": {},
   "outputs": [
    {
     "data": {
      "text/plain": [
       "CompletedProcess(args=['C:\\\\Users\\\\USER\\\\anaconda3\\\\python.exe', '-m', 'streamlit', 'run', 'C:\\\\\\\\Users\\\\\\\\USER\\\\\\\\Desktop\\\\\\\\MSU related\\\\\\\\Courses Sem 1\\\\\\\\CMSE 830\\\\\\\\Project\\\\\\\\Mid-termProject.py'], returncode=2)"
      ]
     },
     "execution_count": 3,
     "metadata": {},
     "output_type": "execute_result"
    }
   ],
   "source": [
    "file_path = r\"C:\\\\Users\\\\USER\\\\Desktop\\\\MSU related\\\\Courses Sem 1\\\\CMSE 830\\\\Project\\\\Mid-termProject.py\"\n",
    "\n",
    "subprocess.run([sys.executable, \"-m\", \"streamlit\", \"run\", file_path])"
   ]
  },
  {
   "cell_type": "code",
   "execution_count": 4,
   "id": "3374ed30-9431-4c82-bb0f-bcb66039a836",
   "metadata": {},
   "outputs": [
    {
     "ename": "FileNotFoundError",
     "evalue": "file not exist, fuck!: C:\\Users\\USER\\Desktop\\MSU related\\Courses Sem 1\\CMSE 830\\Project\\Mid-termProject.py",
     "output_type": "error",
     "traceback": [
      "\u001b[1;31m---------------------------------------------------------------------------\u001b[0m",
      "\u001b[1;31mFileNotFoundError\u001b[0m                         Traceback (most recent call last)",
      "Cell \u001b[1;32mIn[4], line 7\u001b[0m\n\u001b[0;32m      5\u001b[0m file_path \u001b[38;5;241m=\u001b[39m \u001b[38;5;124mr\u001b[39m\u001b[38;5;124m\"\u001b[39m\u001b[38;5;124mC:\u001b[39m\u001b[38;5;124m\\\u001b[39m\u001b[38;5;124mUsers\u001b[39m\u001b[38;5;124m\\\u001b[39m\u001b[38;5;124mUSER\u001b[39m\u001b[38;5;124m\\\u001b[39m\u001b[38;5;124mDesktop\u001b[39m\u001b[38;5;124m\\\u001b[39m\u001b[38;5;124mMSU related\u001b[39m\u001b[38;5;124m\\\u001b[39m\u001b[38;5;124mCourses Sem 1\u001b[39m\u001b[38;5;124m\\\u001b[39m\u001b[38;5;124mCMSE 830\u001b[39m\u001b[38;5;124m\\\u001b[39m\u001b[38;5;124mProject\u001b[39m\u001b[38;5;124m\\\u001b[39m\u001b[38;5;124mMid-termProject.py\u001b[39m\u001b[38;5;124m\"\u001b[39m\n\u001b[0;32m      6\u001b[0m \u001b[38;5;28;01mif\u001b[39;00m \u001b[38;5;129;01mnot\u001b[39;00m os\u001b[38;5;241m.\u001b[39mpath\u001b[38;5;241m.\u001b[39misfile(file_path):\n\u001b[1;32m----> 7\u001b[0m     \u001b[38;5;28;01mraise\u001b[39;00m \u001b[38;5;167;01mFileNotFoundError\u001b[39;00m(\u001b[38;5;124mf\u001b[39m\u001b[38;5;124m\"\u001b[39m\u001b[38;5;124mfile not exist, fuck!: \u001b[39m\u001b[38;5;132;01m{\u001b[39;00mfile_path\u001b[38;5;132;01m}\u001b[39;00m\u001b[38;5;124m\"\u001b[39m)\n\u001b[0;32m      8\u001b[0m webbrowser\u001b[38;5;241m.\u001b[39mopen(\u001b[38;5;124m\"\u001b[39m\u001b[38;5;124mhttp://localhost:8501\u001b[39m\u001b[38;5;124m\"\u001b[39m)\n",
      "\u001b[1;31mFileNotFoundError\u001b[0m: file not exist, fuck!: C:\\Users\\USER\\Desktop\\MSU related\\Courses Sem 1\\CMSE 830\\Project\\Mid-termProject.py"
     ]
    }
   ],
   "source": [
    "import subprocess\n",
    "import sys\n",
    "import webbrowser\n",
    "import os\n",
    "file_path = r\"C:\\Users\\USER\\Desktop\\MSU related\\Courses Sem 1\\CMSE 830\\Project\\Mid-termProject.py\"\n",
    "if not os.path.isfile(file_path):\n",
    "    raise FileNotFoundError(f\"file not exist, fuck!: {file_path}\")\n",
    "webbrowser.open(\"http://localhost:8501\")\n",
    "\n"
   ]
  },
  {
   "cell_type": "code",
   "execution_count": null,
   "id": "b26a4a15-807e-4c96-b509-387ae9a99c42",
   "metadata": {},
   "outputs": [],
   "source": [
    "process = subprocess.run([sys.executable, \"-m\", \"streamlit\", \"run\", file_path],\n",
    "                         capture_output=True, text=True)\n",
    "print(process.stdout)\n",
    "print(process.stderr)"
   ]
  },
  {
   "cell_type": "code",
   "execution_count": null,
   "id": "f6daf698-0d51-4d72-a594-38f04495f7d7",
   "metadata": {},
   "outputs": [],
   "source": [
    "import os\n",
    "\n",
    "file_path = r\"C:\\Users\\USER\\Desktop\\MSU related\\Courses Sem 1\\CMSE 830\\Project\\Mid-termProject.ipynb\"\n",
    "\n",
    "print(os.path.exists(file_path))"
   ]
  },
  {
   "cell_type": "code",
   "execution_count": null,
   "id": "5e1cf55e-5bc6-4754-9cc6-eb5f80da471b",
   "metadata": {},
   "outputs": [],
   "source": [
    "import os\n",
    "\n",
    "file_path = r\"C:\\Users\\USER\\Desktop\\MSU related\\Courses Sem 1\\CMSE 830\\Project\\Mid-termProject.py\"\n",
    "\n",
    "print(\"当前工作目录:\", os.getcwd())\n",
    "print(\"文件是否存在？\", os.path.exists(file_path))\n",
    "\n",
    "if not os.path.exists(file_path):\n",
    "    for root, dirs, files in os.walk(r\"C:\\Users\\USER\\Desktop\"):\n",
    "        for f in files:\n",
    "            if \"Mid-term\" in f:\n",
    "                print(\"找到类似文件：\", os.path.join(root, f))"
   ]
  },
  {
   "cell_type": "code",
   "execution_count": null,
   "id": "30efac6f-1030-47d7-8a2c-6288ae356d4d",
   "metadata": {},
   "outputs": [],
   "source": [
    "pip install streamlit streamlit-jupyter"
   ]
  },
  {
   "cell_type": "code",
   "execution_count": null,
   "id": "e6963e73-6cbf-4278-8a8e-3ab8f75b80af",
   "metadata": {},
   "outputs": [],
   "source": [
    "import streamlit as st\n",
    "from streamlit_jupyter import StreamlitPatcher, tqdm"
   ]
  },
  {
   "cell_type": "code",
   "execution_count": 5,
   "id": "a316e241-effa-43e2-8039-75a7b6d81d45",
   "metadata": {},
   "outputs": [
    {
     "ename": "SyntaxError",
     "evalue": "invalid syntax (3231932250.py, line 1)",
     "output_type": "error",
     "traceback": [
      "\u001b[1;36m  Cell \u001b[1;32mIn[5], line 1\u001b[1;36m\u001b[0m\n\u001b[1;33m    jupyter nbconvert --to script \"C:\\Users\\USER\\Desktop\\MSU related\\Courses Sem 1\\CMSE 830\\Project\\Mid-termProject.ipynb\"\u001b[0m\n\u001b[1;37m            ^\u001b[0m\n\u001b[1;31mSyntaxError\u001b[0m\u001b[1;31m:\u001b[0m invalid syntax\n"
     ]
    }
   ],
   "source": [
    "jupyter nbconvert --to script \"C:\\Users\\USER\\Desktop\\MSU related\\Courses Sem 1\\CMSE 830\\Project\\Mid-termProject.ipynb\""
   ]
  },
  {
   "cell_type": "code",
   "execution_count": null,
   "id": "374c6690-91fb-4c4b-a909-64c02711697c",
   "metadata": {},
   "outputs": [],
   "source": []
  }
 ],
 "metadata": {
  "kernelspec": {
   "display_name": "Python 3 (ipykernel)",
   "language": "python",
   "name": "python3"
  },
  "language_info": {
   "codemirror_mode": {
    "name": "ipython",
    "version": 3
   },
   "file_extension": ".py",
   "mimetype": "text/x-python",
   "name": "python",
   "nbconvert_exporter": "python",
   "pygments_lexer": "ipython3",
   "version": "3.13.5"
  }
 },
 "nbformat": 4,
 "nbformat_minor": 5
}
